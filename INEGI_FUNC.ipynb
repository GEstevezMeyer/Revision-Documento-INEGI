{
 "cells": [
  {
   "metadata": {},
   "cell_type": "markdown",
   "source": [
    "# REVISION INEGI\n",
    "\n",
    "En el estudio realizado por el INEGI se utilizan una serie de métodos estadísticos con el propósito de representar las causas, formas y consecuencias de tener tasas de homicidios tan altas. Este notebook será un recuento de estas técnicas estadísticas y una propuesta de programación en Python.\n",
    "\n",
    "\n",
    "## AVPP\n",
    "\n",
    "El primer método enunciado en el documento es el AVPP, o Años de Vida Productivos Perdidos. El INEGI, en la página 14, propone esta forma de representar los años de vida perdidos por la víctima de homicidio. Este indicador nos permite demostrar que el aumento de los homicidios es un problema que puede afectar directamente nuestro bienestar.\n",
    "\n"
   ],
   "id": "b7fd3e45bf375a3"
  },
  {
   "metadata": {},
   "cell_type": "markdown",
   "source": "**Propuesta de código:**",
   "id": "34a86be6db9330d2"
  },
  {
   "metadata": {
    "ExecuteTime": {
     "end_time": "2025-07-16T22:34:00.041015Z",
     "start_time": "2025-07-16T22:34:00.027292Z"
    }
   },
   "cell_type": "code",
   "source": [
    "\n",
    "\n",
    "\n",
    "def calcular_avpp(victimas_df, col_edad=0, col_anio_muerte=1,\n",
    "                  esperanza_vida_df=None, col_ev_anio=0, col_ev_valor=1):\n",
    "    \"\"\"\n",
    "    Calcula los Años de Vida Potencialmente Perdidos (AVPP) por homicidio.\n",
    "\n",
    "    Parámetros:\n",
    "    - victimas_df: DataFrame con columnas de edad y año de fallecimiento.\n",
    "    - esperanza_vida_df: DataFrame con columnas de año y esperanza de vida.\n",
    "\n",
    "    Librerías necesarias:\n",
    "    ---------------------\n",
    "    - pandas\n",
    "    \"\"\"\n",
    "    avpp = 0\n",
    "    for i in range(len(victimas_df)):\n",
    "        edad = victimas_df.iloc[i, col_edad]\n",
    "        anio_muerte = victimas_df.iloc[i, col_anio_muerte]\n",
    "\n",
    "        izquierda = 0\n",
    "        derecha = len(esperanza_vida_df) - 1\n",
    "        esperanza = None\n",
    "\n",
    "        while izquierda <= derecha:\n",
    "            medio = (izquierda + derecha) // 2\n",
    "            anio_ev = esperanza_vida_df.iloc[medio, col_ev_anio]\n",
    "\n",
    "            if anio_ev == anio_muerte:\n",
    "                esperanza = esperanza_vida_df.iloc[medio, col_ev_valor]\n",
    "                break\n",
    "            elif anio_ev < anio_muerte:\n",
    "                izquierda = medio + 1\n",
    "            else:\n",
    "                derecha = medio - 1\n",
    "\n",
    "        if esperanza is not None:\n",
    "            avpp += max(0, esperanza - edad)\n",
    "\n",
    "    return avpp\n",
    "\n",
    "\n",
    "\n"
   ],
   "id": "30908da4799338a8",
   "outputs": [],
   "execution_count": 1
  },
  {
   "metadata": {},
   "cell_type": "markdown",
   "source": "## Tasas Bayesianas Empiricas\n",
   "id": "15a90d878a2da0f"
  },
  {
   "metadata": {},
   "cell_type": "markdown",
   "source": "Las tasas bayesianas empíricas son un método para suavizar las tasas crudas hacia una tasa media. Son útiles en el caso explicado por el INEGI, donde ciertos municipios se ven afectados debido a su baja población.",
   "id": "2c172f37605ada23"
  },
  {
   "metadata": {},
   "cell_type": "markdown",
   "source": [
    "\n",
    "**Tasa bayesiana empírica suavizada:**\n",
    "\n",
    "$$\n",
    "\\tilde{\\theta}_i = w_i \\hat{\\theta}_i + (1 - w_i) \\bar{\\theta}\n",
    "$$\n",
    "\n",
    "**Cálculo del peso $w_i$:**\n",
    "\n",
    "$$\n",
    "w_i = \\frac{s^2}{s^2 + \\dfrac{\\hat{\\theta}_i (1 - \\hat{\\theta}_i)}{n_i}}\n",
    "$$\n",
    "\n",
    "- $y_i$: número de eventos observados en el área $i$\n",
    "- $n_i$: población del área $i$\n",
    "- $\\hat{\\theta}_i = \\dfrac{y_i}{n_i}$: tasa cruda observada\n",
    "- $\\bar{\\theta}$: tasa global o promedio\n",
    "- $w_i$: peso según varianza y población"
   ],
   "id": "8c4c5e1414c37fad"
  },
  {
   "metadata": {},
   "cell_type": "markdown",
   "source": "### Proposición de código:",
   "id": "a16782178c76dff7"
  },
  {
   "metadata": {
    "ExecuteTime": {
     "end_time": "2025-07-16T22:34:00.646799Z",
     "start_time": "2025-07-16T22:34:00.053595Z"
    }
   },
   "cell_type": "code",
   "source": [
    "import numpy as np\n",
    "import pandas as pd\n",
    "\n",
    "def tsb(data, p_id=0, p_event=1, p_population=2):\n",
    "    \"\"\"\n",
    "Objetivo\n",
    "--------\n",
    "\n",
    "Calcula las tasas Bayesiano-Empíricas a partir de tasas brutas observadas.\n",
    "\n",
    "Parámetros\n",
    "----------\n",
    "data : pandas.DataFrame\n",
    "    Datos.\n",
    "p_id : int\n",
    "    Índice de la columna del identificador.\n",
    "p_event : int\n",
    "    Índice de la columna del número de eventos.\n",
    "p_population : int\n",
    "    Índice de la columna de la población.\n",
    "\n",
    "Return\n",
    "-------\n",
    "array\n",
    "    Array con las tasas Bayesiano-Empíricas calculadas para cada observación.\n",
    "\"\"\"\n",
    "\n",
    "\n",
    "\n",
    "    tasas_crudas = []\n",
    "    varianzas_intra = []\n",
    "\n",
    "    for i in range(len(data)):\n",
    "        t_c = data.iloc[i, p_event] / data.iloc[i, p_population]\n",
    "        tasas_crudas.append(t_c)\n",
    "        v_i = (t_c * (1 - t_c)) / data.iloc[i, p_population]\n",
    "        varianzas_intra.append(v_i)\n",
    "\n",
    "\n",
    "    varianza_entre = np.var(tasas_crudas, ddof=1)\n",
    "\n",
    "    tasa_global = np.mean(tasas_crudas)\n",
    "\n",
    "    tasas_sb = []\n",
    "\n",
    "    for i in range(len(data)):\n",
    "        w_i = varianza_entre / (varianza_entre + varianzas_intra[i])\n",
    "        t_sb = w_i * tasas_crudas[i] + (1 - w_i) * tasa_global\n",
    "        tasas_sb.append((data.iloc[i, p_id], t_sb))\n",
    "    return tasas_sb\n"
   ],
   "id": "fb89f013c22a1622",
   "outputs": [],
   "execution_count": 2
  },
  {
   "metadata": {},
   "cell_type": "markdown",
   "source": "El código funciona, pero el problema es que, en estadística bayesiana, se admite que las tasas crudas es decir, la división entre los eventos observados y la población observada son más precisas mientras mayor sea la población observada. La solución es tratar las observaciones como variables aleatorias.",
   "id": "62a4e9a9b2932777"
  },
  {
   "metadata": {},
   "cell_type": "markdown",
   "source": [
    "Es una librería capaz de crear modelos bayesianos. Primero se debe elegir un priori, que es la variable aleatoria que representa el parámetro o la probabilidad de que ocurra un evento. En nuestro caso, sería la cantidad de litros que consume un país. Luego, se debe elegir la likelihood (verosimilitud); en nuestro ejemplo, podría ser la cantidad de países consumidores de alcohol. Finalmente, se utiliza un método para estimar la distribución posterior, que en nuestro caso será Monte Carlo.Es una librería capaz de crear modelos bayesianos. Primero se debe elegir un priori, que es la variable aleatoria que representa el parámetro o la probabilidad de que ocurra un evento. En nuestro caso, sería la cantidad de litros que consume un país. Luego, se debe elegir la likelihood (verosimilitud); en nuestro ejemplo, podría ser la cantidad de países consumidores de alcohol. Finalmente, se utiliza un método para estimar la distribución posterior, que en nuestro caso será Monte Carlo.\n",
    "\n",
    "## PyMC\n",
    "\n",
    "Es una libreria capaz de hacer modelos bayesiannos. Primero se tiene que elegir un Priori que es la variable alateoria representando el parametro o la probabilidad que el evento suceda. En nuestro caso es cuantos litros consume un pais. Luego se necesita elegir un Likelyhood en el caso de nuestro ejemplo va ser cuantos paises son consumidores de alchool. Se termina con el metodo utilizado en nuestro caso va ser Monte Carlo."
   ],
   "id": "744c99cb76edab1b"
  },
  {
   "metadata": {},
   "cell_type": "markdown",
   "source": [
    "La elección del prior es importante porque facilita que nuestro modelo obtenga una distribución posterior más precisa y con mayor rapidez. Existen cuatro tipos principales de priors:\n",
    "\n",
    "Prior informativo:\n",
    "Es un prior específico que se utiliza cuando se conoce información previa sobre el parámetro. Por ejemplo, si se sabe que el parámetro está cerca de cierto valor, podemos usar una distribución normal centrada en ese valor:\n",
    "\n",
    "𝜃\n",
    "∼\n",
    "𝑁\n",
    "(\n",
    "𝜇\n",
    ",\n",
    "𝜎\n",
    "2\n",
    ")\n",
    "θ∼N(μ,σ\n",
    "2\n",
    " )\n",
    "donde\n",
    "𝜇\n",
    "μ representa la media esperada del parámetro y\n",
    "𝜎\n",
    "2\n",
    "σ\n",
    "2\n",
    "  su varianza.\n",
    "\n",
    "Prior no informativo (o débilmente informativo):\n",
    "Se utiliza cuando no se tiene información previa sobre el parámetro o se desea que el prior tenga el menor impacto posible sobre la posterior. Un ejemplo común es el prior uniforme:\n",
    "\n",
    "𝜃\n",
    "∼\n",
    "Uniform\n",
    "(\n",
    "𝑎\n",
    ",\n",
    "𝑏\n",
    ")\n",
    "θ∼Uniform(a,b)\n",
    "donde todos los valores de\n",
    "𝜃\n",
    "θ entre\n",
    "𝑎\n",
    "a y\n",
    "𝑏\n",
    "b son igualmente probables.\n",
    "\n",
    "Prior empírico:\n",
    "Un prior empírico se estima a partir de los datos disponibles, en lugar de ser completamente especificado a priori. Se calcula ajustando una distribución a un conjunto de datos preliminares. Por ejemplo, se puede estimar un prior normal a partir del promedio y la varianza muestral de datos observados:\n",
    "\n",
    "𝜃\n",
    "∼\n",
    "𝑁\n",
    "(\n",
    "𝑥\n",
    "ˉ\n",
    ",\n",
    "𝑠\n",
    "2\n",
    ")\n",
    "θ∼N(\n",
    "x\n",
    "ˉ\n",
    " ,s\n",
    "2\n",
    " )\n",
    "Prior jerárquico:\n",
    "Se utiliza cuando se modelan parámetros que varían entre grupos (por ejemplo, regiones, municipios, etc.). Aquí, los parámetros tienen su propia distribución, cuyos parámetros a su vez también tienen priors. Por ejemplo:\n",
    "\n",
    "𝜃\n",
    "𝑖\n",
    "∼\n",
    "𝑁\n",
    "(\n",
    "𝜇\n",
    ",\n",
    "𝜏\n",
    "2\n",
    ")\n",
    "con\n",
    "𝜇\n",
    "∼\n",
    "𝑁\n",
    "(\n",
    "0\n",
    ",\n",
    "𝜎\n",
    "2\n",
    ")\n",
    "θ\n",
    "i\n",
    "​\n",
    " ∼N(μ,τ\n",
    "2\n",
    " )conμ∼N(0,σ\n",
    "2\n",
    " )\n",
    "Este enfoque es muy útil en modelos multinivel o de datos agrupados, como el caso del análisis de tasas de homicidio por municipio.\n"
   ],
   "id": "cf4cfda696befd2a"
  },
  {
   "metadata": {},
   "cell_type": "markdown",
   "source": "## Rupturas Naturales de Jenks",
   "id": "b41a163ccd9da235"
  },
  {
   "metadata": {},
   "cell_type": "markdown",
   "source": [
    "Las rupturas naturales de Jenks son un método de clasificación utilizado para minimizar la varianza intra-grupo y maximizar la varianza inter-grupos. En otras palabras, crea grupos con poca diferencia entre los individuos dentro de cada grupo, pero maximiza la diferencia entre los grupos. Este algoritmo es útil cuando los grupos están bien definidos, pero si todos los grupos contienen varianzas relativamente similares, su utilidad disminuye.\n",
    "\n",
    "## Aplicación en Python\n",
    "\n",
    "La librería jenkspy permite realizar de manera sencilla estas rupturas naturales (natural breaks). Solo necesita los datos y el número de clases para generar las divisiones."
   ],
   "id": "b0de919e9893e691"
  },
  {
   "metadata": {
    "ExecuteTime": {
     "end_time": "2025-07-16T22:34:00.853598Z",
     "start_time": "2025-07-16T22:34:00.841972Z"
    }
   },
   "cell_type": "code",
   "source": [
    "import jenkspy\n",
    "\n",
    "# Ejemplo de datos (lista de números)\n",
    "data = [1, 2, 2, 3, 4, 5, 10, 11, 15, 20, 21, 22, 23, 24]\n",
    "\n",
    "# Número de clases que quieres (ejemplo: 3)\n",
    "num_classes = 5\n",
    "\n",
    "# Calcular los cortes (breaks)\n",
    "breaks = jenkspy.jenks_breaks(data, n_classes=num_classes)\n",
    "\n",
    "print(\"Rupturas naturales (Jenks breaks):\", breaks)\n"
   ],
   "id": "6baf50629afe9384",
   "outputs": [
    {
     "name": "stdout",
     "output_type": "stream",
     "text": [
      "Rupturas naturales (Jenks breaks): [np.int64(1), np.int64(3), np.int64(5), np.int64(11), np.int64(15), np.int64(24)]\n"
     ]
    }
   ],
   "execution_count": 3
  },
  {
   "metadata": {},
   "cell_type": "markdown",
   "source": "Es un metodo de clasificacion util lo unico malo de este codigo es que propone donde hacer las rupturas pero no devuelve las classes en array separados. El otro problema es que no se sabe cual es el numero de classes optimas por lo general se tiene que acompañar de literaturo o algunos metodos como el metodo del codo con ayuda del GVF.",
   "id": "420ffa1bdd54fe4f"
  },
  {
   "metadata": {},
   "cell_type": "markdown",
   "source": [
    "## Indice de Moran\n",
    "\n",
    "El índice de Moran es una herramienta estadística utilizada para evaluar si existe autocorrelación espacial.\n",
    "En otras palabras, busca determinar si hay correlación en la forma en que los datos están distribuidos espacialmente.\n",
    "La interpretación del índice es sencilla: sus valores van de -1 a 1.\n",
    "\n",
    "$$\n",
    "I = \\frac{n}{W} \\cdot \\frac{\\sum_{i=1}^n \\sum_{j=1}^n w_{ij} (x_i - \\bar{x})(x_j - \\bar{x})}{\\sum_{i=1}^n (x_i - \\bar{x})^2}\n",
    "$$\n",
    "\n",
    "-Un valor cercano a -1 indica autocorrelación negativa (distribución dispersa o repulsiva).\n",
    "\n",
    "-Un valor cercano a 0 sugiere una distribución aleatoria (sin patrón espacial).\n",
    "\n",
    "-Un valor cercano a 1 indica autocorrelación positiva (zonas similares están agrupadas).\n",
    "\n",
    "Otra utilidad del índice de Moran es evaluar si un espacio es susceptible al clustering.\n",
    "En nuestro caso específico, necesitamos encontrar un índice de Moran alto para justificar el uso de técnicas de agrupamiento (clustering).El índice de Moran es una herramienta estadística utilizada para evaluar si existe autocorrelación espacial.\n",
    "\n",
    "$$\n",
    "E[I] = -\\frac{1}{n-1}\n",
    "$$\n",
    "\n",
    "La fórmula representa el valor esperado del Índice de Moran bajo la hipótesis nula, es decir, cuando se asume que los datos están distribuidos aleatoriamente en el espacio. Mientras más cercano esté el valor observado del índice a este valor esperado, más aleatorio son los datos.\n",
    "\n",
    "## Aplicación en Python\n",
    "\n",
    "Utilizando un archivo GeoJSON y la librería esda, podemos calcular el Índice de Moran. Además, la librería esda ofrece muchas otras funciones útiles para análisis espacial que podremos explorar en el futuro."
   ],
   "id": "243118834db1da24"
  },
  {
   "metadata": {
    "ExecuteTime": {
     "end_time": "2025-07-16T22:34:06.867263Z",
     "start_time": "2025-07-16T22:34:00.950782Z"
    }
   },
   "cell_type": "code",
   "source": [
    "import geopandas as gpd\n",
    "from esda.moran import Moran\n",
    "from libpysal.weights import Queen\n",
    "import matplotlib.pyplot as plt\n",
    "\n",
    "\n",
    "\n",
    "municipios = gpd.read_file(r'C:\\Users\\estev\\Downloads\\muni.json')\n",
    "municipios[\"id\"] = pd.to_numeric(municipios[\"id\"], errors='coerce')\n",
    "\n",
    "variable = municipios[\"id\"].astype(float).values\n",
    "\n",
    "\n",
    "w = Queen.from_dataframe(municipios)\n",
    "w.transform = 'r'\n",
    "\n",
    "\n",
    "moran = Moran(variable, w)\n",
    "\n",
    "\n",
    "print(f\"Índice de Moran: {moran.I}\")\n",
    "print(f\"Valor p (permutaciones): {moran.p_sim}\")\n",
    "print(f\"Valor Z-Scores: {moran.z_sim}\")\n",
    "\n",
    "\n",
    "from splot.esda import moran_scatterplot\n",
    "fig, ax = moran_scatterplot(moran, aspect_equal=True)\n",
    "plt.show()\n"
   ],
   "id": "2d03eaff5f41d5bd",
   "outputs": [
    {
     "name": "stderr",
     "output_type": "stream",
     "text": [
      "C:\\Users\\estev\\AppData\\Local\\Temp\\ipykernel_25912\\2980973638.py:14: FutureWarning: `use_index` defaults to False but will default to True in future. Set True/False directly to control this behavior and silence this warning\n",
      "  w = Queen.from_dataframe(municipios)\n"
     ]
    },
    {
     "name": "stdout",
     "output_type": "stream",
     "text": [
      "Índice de Moran: 0.7992889291023314\n",
      "Valor p (permutaciones): 0.001\n",
      "Valor Z-Scores: 24.97981926201759\n"
     ]
    },
    {
     "data": {
      "text/plain": [
       "<Figure size 700x700 with 1 Axes>"
      ],
      "image/png": "[encoded data removed]"
     },
     "metadata": {},
     "output_type": "display_data"
    }
   ],
   "execution_count": 4
  },
  {
   "metadata": {},
   "cell_type": "markdown",
   "source": "Obviamente aquí es un pésimo ejemplo porque estamos usando los ID como variable, pero es para dar a entender lo poderosa que puede ser esta herramienta. El test proporciona un valor llamado p, que ayuda a validar si un patrón es aleatorio o no. Cuando p es menor que 0.05, significa que el valor estadístico es significativo, lo que indica que es poco probable que el resultado observado haya ocurrido por azar. En cambio, cuando p es mayor que 0.05, el resultado no es estadísticamente significativo, por lo que no se puede rechazar la hipótesis de aleatoriedad, es decir, es más probable que el patrón observado sea producto del azar.",
   "id": "7cc21f44db160d21"
  },
  {
   "metadata": {},
   "cell_type": "markdown",
   "source": [
    "### Getis-Ord GI*\n",
    "\n",
    "Es un índice utilizado por el INEGI para analizar si existe una aglomeración significativa en el espacio. En el contexto del documento, el INEGI busca identificar cómo se distribuyen las zonas calientes de homicidios y aquellas que no lo son. A diferencia del Índice de Moran, que se utiliza para detectar si existen aglomeraciones espaciales, el estadístico Getis-Ord Gi* permite determinar si dichas aglomeraciones son estadísticamente significativas."
   ],
   "id": "93f544dd757b3abd"
  },
  {
   "metadata": {
    "ExecuteTime": {
     "end_time": "2025-07-16T22:34:23.524920Z",
     "start_time": "2025-07-16T22:34:06.892963Z"
    }
   },
   "cell_type": "code",
   "source": [
    "from esda.getisord import G_Local\n",
    "\n",
    "\n",
    "g_local = G_Local(variable, w)\n",
    "\n",
    "i_vals = g_local.Gs\n",
    "p_vals = g_local.p_sim\n",
    "z_scores = g_local.Zs\n",
    "\n",
    "\n",
    "print(f\"Getis-Ord Gi* (G_i*) en la zona 0: {i_vals[0]}\")\n",
    "print(f\"Valor p (permutaciones) en la zona 0: {p_vals[0]}\")\n",
    "print(f\"Z-Score en la zona 0: {z_scores[0]}\")"
   ],
   "id": "7fe7845e4204b717",
   "outputs": [
    {
     "name": "stdout",
     "output_type": "stream",
     "text": [
      "Getis-Ord Gi* (G_i*) en la zona 0: 0.00030019337131450906\n",
      "Valor p (permutaciones) en la zona 0: 0.001\n",
      "Z-Score en la zona 0: -1.6725692008227964\n"
     ]
    }
   ],
   "execution_count": 5
  },
  {
   "metadata": {},
   "cell_type": "markdown",
   "source": "A diferencia del Índice de Moran, que es general, el Getis-Ord Gi* se calcula para cada municipio de manera separada. Obviamente, aquí estamos usando los IDs como ejemplo, por lo que los resultados no tienen mucho interés. Sin embargo, este código sirve como guía para futuros análisis.",
   "id": "94a723767439b89"
  }
 ],
 "metadata": {
  "kernelspec": {
   "display_name": "Python 3",
   "language": "python",
   "name": "python3"
  },
  "language_info": {
   "codemirror_mode": {
    "name": "ipython",
    "version": 2
   },
   "file_extension": ".py",
   "mimetype": "text/x-python",
   "name": "python",
   "nbconvert_exporter": "python",
   "pygments_lexer": "ipython2",
   "version": "2.7.6"
  }
 },
 "nbformat": 4,
 "nbformat_minor": 5
}
